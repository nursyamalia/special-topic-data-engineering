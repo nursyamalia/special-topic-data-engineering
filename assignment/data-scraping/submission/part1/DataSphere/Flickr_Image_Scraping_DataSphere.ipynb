{
  "nbformat": 4,
  "nbformat_minor": 0,
  "metadata": {
    "colab": {
      "provenance": []
    },
    "kernelspec": {
      "name": "python3",
      "display_name": "Python 3"
    },
    "language_info": {
      "name": "python"
    }
  },
  "cells": [
    {
      "cell_type": "code",
      "execution_count": 1,
      "metadata": {
        "colab": {
          "base_uri": "https://localhost:8080/"
        },
        "id": "UOj_5H4MucST",
        "outputId": "d6dc9e66-fd7e-45d5-b1f8-28aa52b201b2"
      },
      "outputs": [
        {
          "output_type": "stream",
          "name": "stdout",
          "text": [
            "Mounted at /content/drive\n"
          ]
        }
      ],
      "source": [
        "from google.colab import drive\n",
        "drive.mount('/content/drive')"
      ]
    },
    {
      "cell_type": "code",
      "source": [
        "!pip install FlickrAPI"
      ],
      "metadata": {
        "colab": {
          "base_uri": "https://localhost:8080/"
        },
        "id": "40bAxnJOujRT",
        "outputId": "66f7d910-892a-41a9-8b05-95419747081e"
      },
      "execution_count": 2,
      "outputs": [
        {
          "output_type": "stream",
          "name": "stdout",
          "text": [
            "Looking in indexes: https://pypi.org/simple, https://us-python.pkg.dev/colab-wheels/public/simple/\n",
            "Collecting FlickrAPI\n",
            "  Downloading flickrapi-2.4.0-py2.py3-none-any.whl (26 kB)\n",
            "Requirement already satisfied: six>=1.5.2 in /usr/local/lib/python3.10/dist-packages (from FlickrAPI) (1.16.0)\n",
            "Requirement already satisfied: requests>=2.2.1 in /usr/local/lib/python3.10/dist-packages (from FlickrAPI) (2.27.1)\n",
            "Requirement already satisfied: requests-oauthlib>=0.4.0 in /usr/local/lib/python3.10/dist-packages (from FlickrAPI) (1.3.1)\n",
            "Collecting requests-toolbelt>=0.3.1 (from FlickrAPI)\n",
            "  Downloading requests_toolbelt-1.0.0-py2.py3-none-any.whl (54 kB)\n",
            "\u001b[2K     \u001b[90m━━━━━━━━━━━━━━━━━━━━━━━━━━━━━━━━━━━━━━━━\u001b[0m \u001b[32m54.5/54.5 kB\u001b[0m \u001b[31m7.0 MB/s\u001b[0m eta \u001b[36m0:00:00\u001b[0m\n",
            "\u001b[?25hRequirement already satisfied: urllib3<1.27,>=1.21.1 in /usr/local/lib/python3.10/dist-packages (from requests>=2.2.1->FlickrAPI) (1.26.15)\n",
            "Requirement already satisfied: certifi>=2017.4.17 in /usr/local/lib/python3.10/dist-packages (from requests>=2.2.1->FlickrAPI) (2022.12.7)\n",
            "Requirement already satisfied: charset-normalizer~=2.0.0 in /usr/local/lib/python3.10/dist-packages (from requests>=2.2.1->FlickrAPI) (2.0.12)\n",
            "Requirement already satisfied: idna<4,>=2.5 in /usr/local/lib/python3.10/dist-packages (from requests>=2.2.1->FlickrAPI) (3.4)\n",
            "Requirement already satisfied: oauthlib>=3.0.0 in /usr/local/lib/python3.10/dist-packages (from requests-oauthlib>=0.4.0->FlickrAPI) (3.2.2)\n",
            "Installing collected packages: requests-toolbelt, FlickrAPI\n",
            "Successfully installed FlickrAPI-2.4.0 requests-toolbelt-1.0.0\n"
          ]
        }
      ]
    },
    {
      "cell_type": "code",
      "source": [
        "import requests\n",
        "import json\n",
        "import csv\n",
        "import cv2\n",
        "import numpy as np"
      ],
      "metadata": {
        "id": "VUkokz6tulSv"
      },
      "execution_count": 3,
      "outputs": []
    },
    {
      "cell_type": "code",
      "source": [
        "# Define the API key and endpoint URLs\n",
        "api_key = \"44ea8d9eef59bddae531535b21df31f8\"\n",
        "search_url = \"https://www.flickr.com/services/rest/?method=flickr.photos.search&api_key={api_key}&tags=bridge&per_page=100&page=1&format=json&nojsoncallback=1\"\n",
        "info_url = \"https://www.flickr.com/services/rest/?method=flickr.photos.getInfo&api_key={api_key}&photo_id={photo_id}&format=json&nojsoncallback=1\"\n",
        "exif_url = \"https://www.flickr.com/services/rest/?method=flickr.photos.getExif&api_key={api_key}&photo_id={photo_id}&format=json&nojsoncallback=1\"\n",
        "\n",
        "# Make the API call to get the search results\n",
        "response = requests.get(search_url.format(api_key=api_key))\n",
        "data = json.loads(response.text)\n",
        "total_pages = data[\"photos\"][\"page\"]\n",
        "\n",
        "# Loop through all the pages and get the photo metadata\n",
        "metadata_list = []\n",
        "for page in range(1, total_pages+1):\n",
        "    response = requests.get(search_url.format(api_key=api_key, page=page))\n",
        "    data = json.loads(response.text)\n",
        "    for photo in data[\"photos\"][\"photo\"]:\n",
        "        # Get the photo info\n",
        "        response = requests.get(info_url.format(api_key=api_key, photo_id=photo[\"id\"]))\n",
        "        data = json.loads(response.text)\n",
        "        metadata = data[\"photo\"]\n",
        "\n",
        "        # Get the camera settings\n",
        "        response = requests.get(exif_url.format(api_key=api_key, photo_id=photo[\"id\"]))\n",
        "        data_exif = json.loads(response.text)\n",
        "\n",
        "        # Store the metadata and camera settings in a dictionary\n",
        "        metadata_dict = {\n",
        "            \"Title\": metadata[\"title\"].get(\"_content\", \"Untitled\"),\n",
        "            \"Author\": metadata[\"owner\"][\"username\"],\n",
        "            \"URL\": f'https://live.staticflickr.com/{metadata[\"server\"]}/{metadata[\"id\"]}_{metadata[\"secret\"]}.jpg',\n",
        "        }\n",
        "\n",
        "        if data_exif['stat'] == 'fail':\n",
        "            exif_data =\"Owner denied access\"\n",
        "        else:\n",
        "            exif_data = data_exif[\"photo\"][\"exif\"]\n",
        "\n",
        "            for exif in exif_data:\n",
        "                if exif[\"label\"] in [\"Make\", \"Model\"]:\n",
        "                    metadata_dict[exif[\"label\"]] = exif[\"raw\"][\"_content\"]\n",
        "\n",
        "                # Add the metadata to the list\n",
        "        metadata_list.append(metadata_dict)\n",
        "\n",
        "# Write the metadata to the CSV file and download the images\n",
        "with open(\"Flickr Image Scraping_DataSphere.csv\", \"w\", newline=\"\", encoding=\"utf-8\") as f:\n",
        "    writer = csv.DictWriter(f, fieldnames=[\"Title\", \"Author\", \"URL\", \"Make\", \"Model\"])\n",
        "    writer.writeheader()\n",
        "\n",
        "    for metadata in metadata_list:\n",
        "        # Download the image\n",
        "        response = requests.get(metadata[\"URL\"])\n",
        "        image = cv2.imdecode(np.frombuffer(response.content, np.uint8), cv2.IMREAD_COLOR)\n",
        "\n",
        "        # Write the metadata to the CSV file\n",
        "        writer.writerow(metadata)"
      ],
      "metadata": {
        "id": "4ppSbRT7unzs"
      },
      "execution_count": 5,
      "outputs": []
    }
  ]
}