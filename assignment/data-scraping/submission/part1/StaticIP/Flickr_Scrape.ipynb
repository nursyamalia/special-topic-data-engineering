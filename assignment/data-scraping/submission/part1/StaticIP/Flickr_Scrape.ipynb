{
 "cells": [
  {
   "cell_type": "code",
   "execution_count": 1,
   "id": "9100c8fd",
   "metadata": {},
   "outputs": [
    {
     "name": "stdout",
     "output_type": "stream",
     "text": [
      "Requirement already satisfied: FlickrAPI in c:\\users\\chloe\\anaconda3\\lib\\site-packages (2.4.0)\n",
      "Requirement already satisfied: requests-oauthlib>=0.4.0 in c:\\users\\chloe\\anaconda3\\lib\\site-packages (from FlickrAPI) (1.3.1)\n",
      "Requirement already satisfied: requests>=2.2.1 in c:\\users\\chloe\\anaconda3\\lib\\site-packages (from FlickrAPI) (2.28.1)\n",
      "Requirement already satisfied: requests-toolbelt>=0.3.1 in c:\\users\\chloe\\anaconda3\\lib\\site-packages (from FlickrAPI) (0.10.1)\n",
      "Requirement already satisfied: six>=1.5.2 in c:\\users\\chloe\\anaconda3\\lib\\site-packages (from FlickrAPI) (1.16.0)\n",
      "Requirement already satisfied: idna<4,>=2.5 in c:\\users\\chloe\\anaconda3\\lib\\site-packages (from requests>=2.2.1->FlickrAPI) (3.3)\n",
      "Requirement already satisfied: certifi>=2017.4.17 in c:\\users\\chloe\\anaconda3\\lib\\site-packages (from requests>=2.2.1->FlickrAPI) (2022.9.14)\n",
      "Requirement already satisfied: charset-normalizer<3,>=2 in c:\\users\\chloe\\anaconda3\\lib\\site-packages (from requests>=2.2.1->FlickrAPI) (2.0.4)\n",
      "Requirement already satisfied: urllib3<1.27,>=1.21.1 in c:\\users\\chloe\\anaconda3\\lib\\site-packages (from requests>=2.2.1->FlickrAPI) (1.26.11)\n",
      "Requirement already satisfied: oauthlib>=3.0.0 in c:\\users\\chloe\\anaconda3\\lib\\site-packages (from requests-oauthlib>=0.4.0->FlickrAPI) (3.2.2)\n"
     ]
    }
   ],
   "source": [
    "!pip install FlickrAPI"
   ]
  },
  {
   "cell_type": "code",
   "execution_count": 6,
   "id": "9ceae57f",
   "metadata": {},
   "outputs": [
    {
     "name": "stdout",
     "output_type": "stream",
     "text": [
      "Collecting opencv-python\n",
      "  Downloading opencv_python-4.7.0.72-cp37-abi3-win_amd64.whl (38.2 MB)\n",
      "     ---------------------------------------- 38.2/38.2 MB 3.7 MB/s eta 0:00:00\n",
      "Requirement already satisfied: numpy>=1.17.0 in c:\\users\\chloe\\anaconda3\\lib\\site-packages (from opencv-python) (1.24.2)\n",
      "Installing collected packages: opencv-python\n",
      "Successfully installed opencv-python-4.7.0.72\n"
     ]
    }
   ],
   "source": [
    "!pip install opencv-python"
   ]
  },
  {
   "cell_type": "code",
   "execution_count": 7,
   "id": "0c94285c",
   "metadata": {},
   "outputs": [],
   "source": [
    "import requests\n",
    "import json\n",
    "import csv\n",
    "import cv2\n",
    "import numpy as np"
   ]
  },
  {
   "cell_type": "code",
   "execution_count": 10,
   "id": "44d91b3b",
   "metadata": {},
   "outputs": [],
   "source": [
    "# Define the API key and endpoint URLs\n",
    "api_key = \"c4f4b6d66b68b51b2cf8980452b317aa\"\n",
    "search_url = \"https://www.flickr.com/services/rest/?method=flickr.photos.search&api_key={api_key}&tags=tulip&per_page=100&page=1&format=json&nojsoncallback=1\"\n",
    "info_url = \"https://www.flickr.com/services/rest/?method=flickr.photos.getInfo&api_key={api_key}&photo_id={photo_id}&format=json&nojsoncallback=1\"\n",
    "exif_url = \"https://www.flickr.com/services/rest/?method=flickr.photos.getExif&api_key={api_key}&photo_id={photo_id}&format=json&nojsoncallback=1\""
   ]
  },
  {
   "cell_type": "code",
   "execution_count": 11,
   "id": "d29d334e",
   "metadata": {},
   "outputs": [],
   "source": [
    "# Make the API call to get the search results\n",
    "response = requests.get(search_url.format(api_key=api_key))\n",
    "data = json.loads(response.text)\n",
    "total_pages = data[\"photos\"][\"page\"]"
   ]
  },
  {
   "cell_type": "code",
   "execution_count": 12,
   "id": "8016bfa3",
   "metadata": {},
   "outputs": [],
   "source": [
    "# Loop through all the pages and get the photo metadata\n",
    "metadata_list = []\n",
    "for page in range(1, total_pages+1):\n",
    "    response = requests.get(search_url.format(api_key=api_key, page=page))\n",
    "    data = json.loads(response.text)\n",
    "    for photo in data[\"photos\"][\"photo\"]:\n",
    "        # Get the photo info\n",
    "        response = requests.get(info_url.format(api_key=api_key, photo_id=photo[\"id\"]))\n",
    "        data = json.loads(response.text)\n",
    "        metadata = data[\"photo\"]\n",
    "\n",
    "        # Get the camera settings\n",
    "        response = requests.get(exif_url.format(api_key=api_key, photo_id=photo[\"id\"]))\n",
    "        data_exif = json.loads(response.text)\n",
    "\n",
    "        # Store the metadata and camera settings in a dictionary\n",
    "        metadata_dict = {\n",
    "            \"Title\": metadata[\"title\"].get(\"_content\", \"Untitled\"),\n",
    "            \"Author\": metadata[\"owner\"][\"username\"],\n",
    "            \"URL\": f'https://live.staticflickr.com/{metadata[\"server\"]}/{metadata[\"id\"]}_{metadata[\"secret\"]}.jpg',\n",
    "        }\n",
    "\n",
    "        if data_exif['stat'] == 'fail':\n",
    "            exif_data =\"Owner denied access\"\n",
    "        else:\n",
    "            exif_data = data_exif[\"photo\"][\"exif\"]\n",
    "\n",
    "            for exif in exif_data:\n",
    "                if exif[\"label\"] in [\"Make\", \"Model\"]:\n",
    "                    metadata_dict[exif[\"label\"]] = exif[\"raw\"][\"_content\"]\n",
    "\n",
    "                # Add the metadata to the list\n",
    "        metadata_list.append(metadata_dict)"
   ]
  },
  {
   "cell_type": "code",
   "execution_count": 13,
   "id": "32d410e8",
   "metadata": {},
   "outputs": [],
   "source": [
    "# Write the metadata to the CSV file and download the images\n",
    "with open(\"flickr_image_metadata.csv\", \"w\", newline=\"\", encoding=\"utf-8\") as f:\n",
    "    writer = csv.DictWriter(f, fieldnames=[\"Title\", \"Author\", \"URL\", \"Make\", \"Model\"])\n",
    "    writer.writeheader()\n",
    "\n",
    "    for metadata in metadata_list:\n",
    "        # Download the image\n",
    "        response = requests.get(metadata[\"URL\"])\n",
    "        image = cv2.imdecode(np.frombuffer(response.content, np.uint8), cv2.IMREAD_COLOR)\n",
    "\n",
    "        # Write the metadata to the CSV file\n",
    "        writer.writerow(metadata)"
   ]
  }
 ],
 "metadata": {
  "kernelspec": {
   "display_name": "Python 3 (ipykernel)",
   "language": "python",
   "name": "python3"
  },
  "language_info": {
   "codemirror_mode": {
    "name": "ipython",
    "version": 3
   },
   "file_extension": ".py",
   "mimetype": "text/x-python",
   "name": "python",
   "nbconvert_exporter": "python",
   "pygments_lexer": "ipython3",
   "version": "3.9.13"
  }
 },
 "nbformat": 4,
 "nbformat_minor": 5
}
