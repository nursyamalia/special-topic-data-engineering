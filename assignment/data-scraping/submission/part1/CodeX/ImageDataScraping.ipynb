{
  "nbformat": 4,
  "nbformat_minor": 0,
  "metadata": {
    "colab": {
      "provenance": [],
      "authorship_tag": "ABX9TyOaHci92mKM+Su+xSwaFMRa",
      "include_colab_link": true
    },
    "kernelspec": {
      "name": "python3",
      "display_name": "Python 3"
    },
    "language_info": {
      "name": "python"
    }
  },
  "cells": [
    {
      "cell_type": "markdown",
      "metadata": {
        "id": "view-in-github",
        "colab_type": "text"
      },
      "source": [
        "<a href=\"https://colab.research.google.com/github/drshahizan/special-topic-data-engineering/blob/main/CodeX_ImageDataScraping.ipynb\" target=\"_parent\"><img src=\"https://colab.research.google.com/assets/colab-badge.svg\" alt=\"Open In Colab\"/></a>"
      ]
    },
    {
      "cell_type": "code",
      "source": [
        "import requests\n",
        "import csv\n",
        "\n",
        "# Pixabay API endpoint\n",
        "url = 'https://pixabay.com/api/'\n",
        "\n",
        "# Pixabay API key\n",
        "api_key = '35457209-4e96a8c8795b4e18cc047a4e6'\n",
        "\n",
        "# Query parameters\n",
        "query = 'ragdolls'  # Replace with the search query you want to use\n",
        "per_page = 100     # Number of results per page (max is 200)\n",
        "page = 1           # Page number to retrieve\n",
        "\n",
        "# Send GET request to Pixabay API\n",
        "response = requests.get(url, params={\n",
        "    'key': api_key,\n",
        "    'q': query,\n",
        "    'per_page': per_page,\n",
        "    'page': page\n",
        "})\n",
        "\n",
        "# Parse JSON response\n",
        "data = response.json()\n",
        "\n",
        "# Check if API request was successful\n",
        "if response.status_code == 200 and data['totalHits'] > 0:\n",
        "    # Create a list to store metadata\n",
        "    metadata_list = []\n",
        "\n",
        "    # Loop through the list of hits\n",
        "    for hit in data['hits']:\n",
        "        # Extract the metadata from the hit object\n",
        "        photo_id = hit['id']\n",
        "        photo_title = hit['user']\n",
        "        photo_description = hit['tags']\n",
        "        photo_tags = hit['tags']\n",
        "        photo_url = hit['webformatURL']\n",
        "        photo_user = hit['user']\n",
        "        photo_user_id = hit['user_id']\n",
        "        imageWidth = hit['imageWidth']\n",
        "        imageHeight = hit['imageHeight']\n",
        "        previewWidth = hit['previewWidth']\n",
        "        previewHeight = hit['previewHeight']\n",
        "        webformatWidth = hit['webformatWidth']\n",
        "        webformatHeight = hit['webformatHeight']\n",
        "        imageSize = hit['imageSize']\n",
        "        tags = hit['tags']\n",
        "        view = hit['views']\n",
        "        downloads = hit['downloads']\n",
        "        likes = hit['likes']\n",
        "        comments =  hit['comments']\n",
        "        user_id = hit['user_id']\n",
        "        user = hit['user']\n",
        "        pageURL = hit['pageURL']\n",
        "        previewURL = hit['previewURL']\n",
        "        userImageURL =  hit['userImageURL']\n",
        "        webformatURL = hit['webformatURL']\n",
        "\n",
        "\n",
        "        # Create a dictionary to store the metadata for the current photo\n",
        "        metadata = {\n",
        "            'Photo ID': photo_id,\n",
        "            'Photo Title': photo_title,\n",
        "            'Photo Description': photo_description,\n",
        "            'Photo Tags': photo_tags,\n",
        "            'Photo URL': photo_url,\n",
        "            'Photo User': photo_user,\n",
        "            'Photo User ID': photo_user_id,\n",
        "            'Image Width' : imageWidth,\n",
        "            'Image Height' : imageHeight  ,\n",
        "            'previewWidth' :  previewWidth,\n",
        "            'previewHeight' :  previewHeight,\n",
        "            'webformatWidth' : webformatWidth,\n",
        "            'webformatHeight' :  webformatHeight,\n",
        "            'imageSize' :  imageSize,\n",
        "            'tags' :  tags,\n",
        "            'views' :  view,\n",
        "            'downloads' :  downloads,\n",
        "            'likes' :  likes,\n",
        "            'comments' :  comments,\n",
        "            'userID' :  user_id,\n",
        "            'user' :  user,\n",
        "            'page URL' :  pageURL,\n",
        "            'preview URL' :  previewURL,\n",
        "            'userimage URL' :  userImageURL,\n",
        "            'webformat URL' :  webformatURL,\n",
        "\n",
        "        }\n",
        "\n",
        "        # Append the metadata to the metadata list\n",
        "        metadata_list.append(metadata)\n",
        "\n",
        "    # Write the metadata to a CSV file\n",
        "    with open('pixabay_metadata.csv', 'w', newline='') as csvfile:\n",
        "        fieldnames = metadata_list[0].keys()\n",
        "        writer = csv.DictWriter(csvfile, fieldnames=fieldnames)\n",
        "        writer.writeheader()\n",
        "        writer.writerows(metadata_list)\n",
        "\n",
        "    print('Metadata for {} photos has been saved to pixabay_metadata.csv file.'.format(len(metadata_list)))\n",
        "else:\n",
        "    print('No photos found for the query: {}'.format(query))\n"
      ],
      "metadata": {
        "colab": {
          "base_uri": "https://localhost:8080/"
        },
        "id": "SS-XXcSpFa1U",
        "outputId": "56d3520f-65ba-44c6-d767-9c842fee1422"
      },
      "execution_count": 7,
      "outputs": [
        {
          "output_type": "stream",
          "name": "stdout",
          "text": [
            "Metadata for 100 photos has been saved to pixabay_metadata.csv file.\n"
          ]
        }
      ]
    }
  ]
}
