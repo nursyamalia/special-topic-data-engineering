{
  "nbformat": 4,
  "nbformat_minor": 0,
  "metadata": {
    "colab": {
      "provenance": [],
      "authorship_tag": "ABX9TyNpaH/HdcEXZkTusc5SQC2/",
      "include_colab_link": true
    },
    "kernelspec": {
      "name": "python3",
      "display_name": "Python 3"
    },
    "language_info": {
      "name": "python"
    }
  },
  "cells": [
    {
      "cell_type": "markdown",
      "metadata": {
        "id": "view-in-github",
        "colab_type": "text"
      },
      "source": [
        "<a href=\"https://colab.research.google.com/github/drshahizan/special-topic-data-engineering/blob/main/assignment/data-scraping/submission/part2/DataAce/DS_GoogleScholar.ipynb\" target=\"_parent\"><img src=\"https://colab.research.google.com/assets/colab-badge.svg\" alt=\"Open In Colab\"/></a>"
      ]
    },
    {
      "cell_type": "code",
      "source": [
        "from google.colab import drive\n",
        "drive.mount('/content/drive')"
      ],
      "metadata": {
        "colab": {
          "base_uri": "https://localhost:8080/"
        },
        "id": "JJruAAAPWlPx",
        "outputId": "226dc269-3c44-4166-a1f2-ebece8352e10"
      },
      "execution_count": 59,
      "outputs": [
        {
          "output_type": "stream",
          "name": "stdout",
          "text": [
            "Drive already mounted at /content/drive; to attempt to forcibly remount, call drive.mount(\"/content/drive\", force_remount=True).\n"
          ]
        }
      ]
    },
    {
      "cell_type": "code",
      "source": [
        "import csv"
      ],
      "metadata": {
        "id": "goMrniVgkSmT"
      },
      "execution_count": 88,
      "outputs": []
    },
    {
      "cell_type": "code",
      "source": [
        "import pandas as pd"
      ],
      "metadata": {
        "id": "orjMxBhHoATg"
      },
      "execution_count": 93,
      "outputs": []
    },
    {
      "cell_type": "code",
      "source": [
        "from bs4 import BeautifulSoup\n",
        "import requests"
      ],
      "metadata": {
        "id": "VACY50EgVS89"
      },
      "execution_count": 60,
      "outputs": []
    },
    {
      "cell_type": "code",
      "source": [
        "from urllib.request import Request, urlopen"
      ],
      "metadata": {
        "id": "DW-lzlWpDKOM"
      },
      "execution_count": 61,
      "outputs": []
    },
    {
      "cell_type": "code",
      "source": [
        "root = 'https://scholar.google.com/'\n",
        "link = 'https://scholar.google.com/citations?view_op=view_org&org=14000212712167289655&hl=en&oi=io'"
      ],
      "metadata": {
        "id": "5M2NjHh0DV-S"
      },
      "execution_count": 62,
      "outputs": []
    },
    {
      "cell_type": "code",
      "source": [
        "req = Request(link, headers={'User-Agent': 'Mozilla/5.0'})"
      ],
      "metadata": {
        "id": "gnAnqAyrDon1"
      },
      "execution_count": 63,
      "outputs": []
    },
    {
      "cell_type": "code",
      "source": [
        "webpage = urlopen(req).read()\n",
        "# print(webpage)"
      ],
      "metadata": {
        "id": "GMTWc1c0Es8_"
      },
      "execution_count": 99,
      "outputs": []
    },
    {
      "cell_type": "code",
      "source": [
        "data = []"
      ],
      "metadata": {
        "id": "6LIzFAtLnv1H"
      },
      "execution_count": 100,
      "outputs": []
    },
    {
      "cell_type": "code",
      "source": [
        "with requests.Session() as c:\n",
        "  soup = BeautifulSoup(webpage, 'html5lib')\n",
        "  for item in soup.find_all('div', attrs = {'class': 'gsc_1usr'}):\n",
        "    # print(item)\n",
        "    name = (item.find('h3', attrs = {'class': 'gs_ai_name'}).get_text())\n",
        "    print(name)\n",
        "    desc = (item.find('div', attrs = {'class': 'gs_ai_aff'}).get_text())\n",
        "    print(desc)\n",
        "    v_email = (item.find('div', attrs = {'class': 'gs_ai_eml'}).get_text())\n",
        "    email = (v_email.split('Verified email at ')[1])\n",
        "    print(email)\n",
        "    cited= (item.find('div', attrs = {'class': 'gs_ai_cby'}).get_text())\n",
        "    cby = (cited.split('Cited by ')[1])\n",
        "    print(cby)\n",
        "\n",
        "    for gs_ai_int in item.find_all('div', {'class': 'gs_ai_int'}):\n",
        "        labels = [link.text for link in gs_ai_int.find_all('a', {'class': 'gs_ai_one_int'})]\n",
        "        print(labels)\n",
        "      \n",
        "    raw_link = (item.find('a', href = True)['href'])\n",
        "    link = 'https://scholar.google.com/' + raw_link\n",
        "    print(link)\n",
        "\n",
        "    data.append({'Name': name, 'Description': desc, 'Verified Email at': email, 'Cited By': cby, 'Expertise': labels, 'Link': link})"
      ],
      "metadata": {
        "id": "bPG-pTQZExua",
        "colab": {
          "base_uri": "https://localhost:8080/"
        },
        "outputId": "8ba9e606-10ef-4735-a22e-33450a768938"
      },
      "execution_count": 101,
      "outputs": [
        {
          "output_type": "stream",
          "name": "stdout",
          "text": [
            "Ahmad Fauzi Ismail\n",
            "Advanced Membrane Technology Research Centre, Universiti Teknologi Malaysia\n",
            "utm.my\n",
            "64516\n",
            "['membrane technology', 'nanostructured materials', 'hemodialysis', 'reverse osmosis', 'fuel cell']\n",
            "https://scholar.google.com//citations?hl=en&user=8VLNIb0AAAAJ\n",
            "Ts. Dr. Haslinda Mohamed Kamar\n",
            "Associate Professor, School of Mechanical Engineering, Universiti Teknologi Malaysia\n",
            "utm.my\n",
            "43151\n",
            "['Thermodynamics', 'Heat transfer', 'Thermal comfort', 'Indoor air quality', 'HVAC']\n",
            "https://scholar.google.com//citations?hl=en&user=1oiBvlQAAAAJ\n",
            "Muhammad Zulkarnain Abd Rahman\n",
            "Universiti Teknologi Malaysia, Delft university of technology\n",
            "utm.my\n",
            "16831\n",
            "['Remote Sensing']\n",
            "https://scholar.google.com//citations?hl=en&user=0ndPGrkAAAAJ\n",
            "Ir Dr Nor Aishah Saidina Amin\n",
            "Professor, Universiti Teknologi Malaysia\n",
            "utm.my\n",
            "16025\n",
            "['Applied catalysis', 'reaction engineering', 'biomass conversion', 'CO2 utilization', 'hydrogen production']\n",
            "https://scholar.google.com//citations?hl=en&user=0KAkq9MAAAAJ\n",
            "Mukhlis A Rahman\n",
            "Advanced Membrane Technology Research Centre, Universiti Teknologi Malaysia\n",
            "petroleum.utm.my\n",
            "15964\n",
            "['Membrane Technology', 'Ceramic Membrane']\n",
            "https://scholar.google.com//citations?hl=en&user=O5D_MxAAAAAJ\n",
            "Dr. Zainal Salam\n",
            "Professor of Power Electronics, Universiti Teknologi Malaysia\n",
            "fke.utm.my\n",
            "15391\n",
            "['Power Electronics', 'Energy', 'Solar', 'Photovoltaic']\n",
            "https://scholar.google.com//citations?hl=en&user=L48PgBQAAAAJ\n",
            "Shamsuddin Shahid\n",
            "Associate Professor, Universiti Teknologi Malaysia\n",
            "utm.my\n",
            "15177\n",
            "['Water resources', 'Climate Change', 'Statistical hydrology', 'Groundwater hydrology', 'Hydrological disasters']\n",
            "https://scholar.google.com//citations?hl=en&user=lCUDYyYAAAAJ\n",
            "abdul halim mohamed yatim\n",
            "Universiti teknologi malaysia\n",
            "fke.utm.my\n",
            "14906\n",
            "['Power electronics', 'electrical drives', 'renewable energy']\n",
            "https://scholar.google.com//citations?hl=en&user=cfZOjo0AAAAJ\n",
            "WJ Lau (Woei-Jye Lau)\n",
            "Advanced Membrane Technology Research Centre, Universiti Teknologi Malaysia\n",
            "utm.my\n",
            "14311\n",
            "['Membrane', 'Thin Film Nanocomposite', 'Reverse Osmosis', 'Nanofiltration', 'Water/Wastewater Purification']\n",
            "https://scholar.google.com//citations?hl=en&user=ZHLg4wMAAAAJ\n",
            "Arshad Ahmad\n",
            "Universiti Teknologi Malaysia\n",
            "utm.my\n",
            "13145\n",
            "['Process Modeling', 'Process Safety', 'Process Control & Optimization', 'Process Intensification', 'Hydrogen & Fuel Cell']\n",
            "https://scholar.google.com//citations?hl=en&user=EuvREFgAAAAJ\n"
          ]
        }
      ]
    },
    {
      "cell_type": "code",
      "source": [
        "df = pd.DataFrame(data)\n",
        "display(df)"
      ],
      "metadata": {
        "colab": {
          "base_uri": "https://localhost:8080/",
          "height": 598
        },
        "id": "cqfswY_uor-Y",
        "outputId": "88debace-2b6d-42c9-e77f-cad79fd096a2"
      },
      "execution_count": 102,
      "outputs": [
        {
          "output_type": "display_data",
          "data": {
            "text/plain": [
              "                             Name  \\\n",
              "0              Ahmad Fauzi Ismail   \n",
              "1  Ts. Dr. Haslinda Mohamed Kamar   \n",
              "2  Muhammad Zulkarnain Abd Rahman   \n",
              "3   Ir Dr Nor Aishah Saidina Amin   \n",
              "4                Mukhlis A Rahman   \n",
              "5                Dr. Zainal Salam   \n",
              "6               Shamsuddin Shahid   \n",
              "7       abdul halim mohamed yatim   \n",
              "8           WJ Lau (Woei-Jye Lau)   \n",
              "9                    Arshad Ahmad   \n",
              "\n",
              "                                         Description Verified Email at  \\\n",
              "0  Advanced Membrane Technology Research Centre, ...            utm.my   \n",
              "1  Associate Professor, School of Mechanical Engi...            utm.my   \n",
              "2  Universiti Teknologi Malaysia, Delft universit...            utm.my   \n",
              "3           Professor, Universiti Teknologi Malaysia            utm.my   \n",
              "4  Advanced Membrane Technology Research Centre, ...  petroleum.utm.my   \n",
              "5  Professor of Power Electronics, Universiti Tek...        fke.utm.my   \n",
              "6  Associate Professor, Universiti Teknologi Mala...            utm.my   \n",
              "7                      Universiti teknologi malaysia        fke.utm.my   \n",
              "8  Advanced Membrane Technology Research Centre, ...            utm.my   \n",
              "9                      Universiti Teknologi Malaysia            utm.my   \n",
              "\n",
              "  Cited By                                          Expertise  \\\n",
              "0    64516  [membrane technology, nanostructured materials...   \n",
              "1    43151  [Thermodynamics, Heat transfer, Thermal comfor...   \n",
              "2    16831                                   [Remote Sensing]   \n",
              "3    16025  [Applied catalysis, reaction engineering, biom...   \n",
              "4    15964            [Membrane Technology, Ceramic Membrane]   \n",
              "5    15391   [Power Electronics, Energy, Solar, Photovoltaic]   \n",
              "6    15177  [Water resources, Climate Change, Statistical ...   \n",
              "7    14906  [Power electronics, electrical drives, renewab...   \n",
              "8    14311  [Membrane, Thin Film Nanocomposite, Reverse Os...   \n",
              "9    13145  [Process Modeling, Process Safety, Process Con...   \n",
              "\n",
              "                                                Link  \n",
              "0  https://scholar.google.com//citations?hl=en&us...  \n",
              "1  https://scholar.google.com//citations?hl=en&us...  \n",
              "2  https://scholar.google.com//citations?hl=en&us...  \n",
              "3  https://scholar.google.com//citations?hl=en&us...  \n",
              "4  https://scholar.google.com//citations?hl=en&us...  \n",
              "5  https://scholar.google.com//citations?hl=en&us...  \n",
              "6  https://scholar.google.com//citations?hl=en&us...  \n",
              "7  https://scholar.google.com//citations?hl=en&us...  \n",
              "8  https://scholar.google.com//citations?hl=en&us...  \n",
              "9  https://scholar.google.com//citations?hl=en&us...  "
            ],
            "text/html": [
              "\n",
              "  <div id=\"df-3d452e22-0458-40ee-966e-30b20cf974ab\">\n",
              "    <div class=\"colab-df-container\">\n",
              "      <div>\n",
              "<style scoped>\n",
              "    .dataframe tbody tr th:only-of-type {\n",
              "        vertical-align: middle;\n",
              "    }\n",
              "\n",
              "    .dataframe tbody tr th {\n",
              "        vertical-align: top;\n",
              "    }\n",
              "\n",
              "    .dataframe thead th {\n",
              "        text-align: right;\n",
              "    }\n",
              "</style>\n",
              "<table border=\"1\" class=\"dataframe\">\n",
              "  <thead>\n",
              "    <tr style=\"text-align: right;\">\n",
              "      <th></th>\n",
              "      <th>Name</th>\n",
              "      <th>Description</th>\n",
              "      <th>Verified Email at</th>\n",
              "      <th>Cited By</th>\n",
              "      <th>Expertise</th>\n",
              "      <th>Link</th>\n",
              "    </tr>\n",
              "  </thead>\n",
              "  <tbody>\n",
              "    <tr>\n",
              "      <th>0</th>\n",
              "      <td>Ahmad Fauzi Ismail</td>\n",
              "      <td>Advanced Membrane Technology Research Centre, ...</td>\n",
              "      <td>utm.my</td>\n",
              "      <td>64516</td>\n",
              "      <td>[membrane technology, nanostructured materials...</td>\n",
              "      <td>https://scholar.google.com//citations?hl=en&amp;us...</td>\n",
              "    </tr>\n",
              "    <tr>\n",
              "      <th>1</th>\n",
              "      <td>Ts. Dr. Haslinda Mohamed Kamar</td>\n",
              "      <td>Associate Professor, School of Mechanical Engi...</td>\n",
              "      <td>utm.my</td>\n",
              "      <td>43151</td>\n",
              "      <td>[Thermodynamics, Heat transfer, Thermal comfor...</td>\n",
              "      <td>https://scholar.google.com//citations?hl=en&amp;us...</td>\n",
              "    </tr>\n",
              "    <tr>\n",
              "      <th>2</th>\n",
              "      <td>Muhammad Zulkarnain Abd Rahman</td>\n",
              "      <td>Universiti Teknologi Malaysia, Delft universit...</td>\n",
              "      <td>utm.my</td>\n",
              "      <td>16831</td>\n",
              "      <td>[Remote Sensing]</td>\n",
              "      <td>https://scholar.google.com//citations?hl=en&amp;us...</td>\n",
              "    </tr>\n",
              "    <tr>\n",
              "      <th>3</th>\n",
              "      <td>Ir Dr Nor Aishah Saidina Amin</td>\n",
              "      <td>Professor, Universiti Teknologi Malaysia</td>\n",
              "      <td>utm.my</td>\n",
              "      <td>16025</td>\n",
              "      <td>[Applied catalysis, reaction engineering, biom...</td>\n",
              "      <td>https://scholar.google.com//citations?hl=en&amp;us...</td>\n",
              "    </tr>\n",
              "    <tr>\n",
              "      <th>4</th>\n",
              "      <td>Mukhlis A Rahman</td>\n",
              "      <td>Advanced Membrane Technology Research Centre, ...</td>\n",
              "      <td>petroleum.utm.my</td>\n",
              "      <td>15964</td>\n",
              "      <td>[Membrane Technology, Ceramic Membrane]</td>\n",
              "      <td>https://scholar.google.com//citations?hl=en&amp;us...</td>\n",
              "    </tr>\n",
              "    <tr>\n",
              "      <th>5</th>\n",
              "      <td>Dr. Zainal Salam</td>\n",
              "      <td>Professor of Power Electronics, Universiti Tek...</td>\n",
              "      <td>fke.utm.my</td>\n",
              "      <td>15391</td>\n",
              "      <td>[Power Electronics, Energy, Solar, Photovoltaic]</td>\n",
              "      <td>https://scholar.google.com//citations?hl=en&amp;us...</td>\n",
              "    </tr>\n",
              "    <tr>\n",
              "      <th>6</th>\n",
              "      <td>Shamsuddin Shahid</td>\n",
              "      <td>Associate Professor, Universiti Teknologi Mala...</td>\n",
              "      <td>utm.my</td>\n",
              "      <td>15177</td>\n",
              "      <td>[Water resources, Climate Change, Statistical ...</td>\n",
              "      <td>https://scholar.google.com//citations?hl=en&amp;us...</td>\n",
              "    </tr>\n",
              "    <tr>\n",
              "      <th>7</th>\n",
              "      <td>abdul halim mohamed yatim</td>\n",
              "      <td>Universiti teknologi malaysia</td>\n",
              "      <td>fke.utm.my</td>\n",
              "      <td>14906</td>\n",
              "      <td>[Power electronics, electrical drives, renewab...</td>\n",
              "      <td>https://scholar.google.com//citations?hl=en&amp;us...</td>\n",
              "    </tr>\n",
              "    <tr>\n",
              "      <th>8</th>\n",
              "      <td>WJ Lau (Woei-Jye Lau)</td>\n",
              "      <td>Advanced Membrane Technology Research Centre, ...</td>\n",
              "      <td>utm.my</td>\n",
              "      <td>14311</td>\n",
              "      <td>[Membrane, Thin Film Nanocomposite, Reverse Os...</td>\n",
              "      <td>https://scholar.google.com//citations?hl=en&amp;us...</td>\n",
              "    </tr>\n",
              "    <tr>\n",
              "      <th>9</th>\n",
              "      <td>Arshad Ahmad</td>\n",
              "      <td>Universiti Teknologi Malaysia</td>\n",
              "      <td>utm.my</td>\n",
              "      <td>13145</td>\n",
              "      <td>[Process Modeling, Process Safety, Process Con...</td>\n",
              "      <td>https://scholar.google.com//citations?hl=en&amp;us...</td>\n",
              "    </tr>\n",
              "  </tbody>\n",
              "</table>\n",
              "</div>\n",
              "      <button class=\"colab-df-convert\" onclick=\"convertToInteractive('df-3d452e22-0458-40ee-966e-30b20cf974ab')\"\n",
              "              title=\"Convert this dataframe to an interactive table.\"\n",
              "              style=\"display:none;\">\n",
              "        \n",
              "  <svg xmlns=\"http://www.w3.org/2000/svg\" height=\"24px\"viewBox=\"0 0 24 24\"\n",
              "       width=\"24px\">\n",
              "    <path d=\"M0 0h24v24H0V0z\" fill=\"none\"/>\n",
              "    <path d=\"M18.56 5.44l.94 2.06.94-2.06 2.06-.94-2.06-.94-.94-2.06-.94 2.06-2.06.94zm-11 1L8.5 8.5l.94-2.06 2.06-.94-2.06-.94L8.5 2.5l-.94 2.06-2.06.94zm10 10l.94 2.06.94-2.06 2.06-.94-2.06-.94-.94-2.06-.94 2.06-2.06.94z\"/><path d=\"M17.41 7.96l-1.37-1.37c-.4-.4-.92-.59-1.43-.59-.52 0-1.04.2-1.43.59L10.3 9.45l-7.72 7.72c-.78.78-.78 2.05 0 2.83L4 21.41c.39.39.9.59 1.41.59.51 0 1.02-.2 1.41-.59l7.78-7.78 2.81-2.81c.8-.78.8-2.07 0-2.86zM5.41 20L4 18.59l7.72-7.72 1.47 1.35L5.41 20z\"/>\n",
              "  </svg>\n",
              "      </button>\n",
              "      \n",
              "  <style>\n",
              "    .colab-df-container {\n",
              "      display:flex;\n",
              "      flex-wrap:wrap;\n",
              "      gap: 12px;\n",
              "    }\n",
              "\n",
              "    .colab-df-convert {\n",
              "      background-color: #E8F0FE;\n",
              "      border: none;\n",
              "      border-radius: 50%;\n",
              "      cursor: pointer;\n",
              "      display: none;\n",
              "      fill: #1967D2;\n",
              "      height: 32px;\n",
              "      padding: 0 0 0 0;\n",
              "      width: 32px;\n",
              "    }\n",
              "\n",
              "    .colab-df-convert:hover {\n",
              "      background-color: #E2EBFA;\n",
              "      box-shadow: 0px 1px 2px rgba(60, 64, 67, 0.3), 0px 1px 3px 1px rgba(60, 64, 67, 0.15);\n",
              "      fill: #174EA6;\n",
              "    }\n",
              "\n",
              "    [theme=dark] .colab-df-convert {\n",
              "      background-color: #3B4455;\n",
              "      fill: #D2E3FC;\n",
              "    }\n",
              "\n",
              "    [theme=dark] .colab-df-convert:hover {\n",
              "      background-color: #434B5C;\n",
              "      box-shadow: 0px 1px 3px 1px rgba(0, 0, 0, 0.15);\n",
              "      filter: drop-shadow(0px 1px 2px rgba(0, 0, 0, 0.3));\n",
              "      fill: #FFFFFF;\n",
              "    }\n",
              "  </style>\n",
              "\n",
              "      <script>\n",
              "        const buttonEl =\n",
              "          document.querySelector('#df-3d452e22-0458-40ee-966e-30b20cf974ab button.colab-df-convert');\n",
              "        buttonEl.style.display =\n",
              "          google.colab.kernel.accessAllowed ? 'block' : 'none';\n",
              "\n",
              "        async function convertToInteractive(key) {\n",
              "          const element = document.querySelector('#df-3d452e22-0458-40ee-966e-30b20cf974ab');\n",
              "          const dataTable =\n",
              "            await google.colab.kernel.invokeFunction('convertToInteractive',\n",
              "                                                     [key], {});\n",
              "          if (!dataTable) return;\n",
              "\n",
              "          const docLinkHtml = 'Like what you see? Visit the ' +\n",
              "            '<a target=\"_blank\" href=https://colab.research.google.com/notebooks/data_table.ipynb>data table notebook</a>'\n",
              "            + ' to learn more about interactive tables.';\n",
              "          element.innerHTML = '';\n",
              "          dataTable['output_type'] = 'display_data';\n",
              "          await google.colab.output.renderOutput(dataTable, element);\n",
              "          const docLink = document.createElement('div');\n",
              "          docLink.innerHTML = docLinkHtml;\n",
              "          element.appendChild(docLink);\n",
              "        }\n",
              "      </script>\n",
              "    </div>\n",
              "  </div>\n",
              "  "
            ]
          },
          "metadata": {}
        }
      ]
    },
    {
      "cell_type": "code",
      "source": [
        "df.to_csv('/content/drive/MyDrive/ds_gs.csv', index=False)"
      ],
      "metadata": {
        "id": "mP_mg1twoQ8e"
      },
      "execution_count": 98,
      "outputs": []
    }
  ]
}