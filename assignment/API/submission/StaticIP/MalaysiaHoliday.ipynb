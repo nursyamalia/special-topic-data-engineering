{
  "nbformat": 4,
  "nbformat_minor": 0,
  "metadata": {
    "colab": {
      "provenance": [],
      "authorship_tag": "ABX9TyNSPdiJArk6koQHdqkeNy35",
      "include_colab_link": true
    },
    "kernelspec": {
      "name": "python3",
      "display_name": "Python 3"
    },
    "language_info": {
      "name": "python"
    }
  },
  "cells": [
    {
      "cell_type": "markdown",
      "metadata": {
        "id": "view-in-github",
        "colab_type": "text"
      },
      "source": [
        "<a href=\"https://colab.research.google.com/github/drshahizan/special-topic-data-engineering/blob/main/Assignment/API/submission/StaticIP/MalaysiaHoliday.ipynb\" target=\"_parent\"><img src=\"https://colab.research.google.com/assets/colab-badge.svg\" alt=\"Open In Colab\"/></a>"
      ]
    },
    {
      "cell_type": "code",
      "execution_count": 1,
      "metadata": {
        "id": "hHkQM0uPLnXm"
      },
      "outputs": [],
      "source": [
        "import requests\n",
        "import json\n",
        "import csv\n",
        "import pandas as pd\n",
        "\n",
        "# fetch data from holidayapi using their api\n",
        "api_key = \"ce9d976d-726c-4eaa-b304-07cbc741d647\"\n",
        "url = \"https://holidayapi.com/v1/holidays?pretty&country=MY&year=2022&key=\"+api_key\n",
        "r = requests.get(url)\n",
        "\n",
        "# get value in json format\n",
        "value = r.json()\n",
        "value = value['holidays']\n",
        "# write into file\n",
        "json_file = open(\"data.json\", \"w\")\n",
        "json.dump(value, json_file, indent = 6)  \n",
        "json_file.close()\n",
        "\n",
        "\n",
        "# convert to csv\n",
        "df = pd.read_json (r'/content/data.json')\n",
        "df.to_csv (r'/content/data.csv', index = None)"
      ]
    }
  ]
}